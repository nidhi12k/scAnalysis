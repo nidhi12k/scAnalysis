{
 "cells": [
  {
   "cell_type": "code",
   "execution_count": 31,
   "id": "70e96fd0-219b-403d-beb5-62eecf430545",
   "metadata": {},
   "outputs": [],
   "source": [
    "library('Seurat')\n",
    "library('tidyverse')"
   ]
  },
  {
   "cell_type": "code",
   "execution_count": 32,
   "id": "55fb3bac-9024-4b3f-9d86-72f8a5510f5e",
   "metadata": {},
   "outputs": [],
   "source": [
    "# https://www.10xgenomics.com/datasets/20-k-mixture-of-nsclc-dt-cs-from-7-donors-3-v-3-1-3-1-standard-6-1-0"
   ]
  },
  {
   "cell_type": "code",
   "execution_count": 33,
   "id": "5ecc9fc8-85fa-4cb4-94ec-74f995af9ba7",
   "metadata": {},
   "outputs": [
    {
     "name": "stderr",
     "output_type": "stream",
     "text": [
      "Genome matrix has multiple modalities, returning a list of matrices for this genome\n",
      "\n"
     ]
    }
   ],
   "source": [
    "nsclc_m <- Read10X_h5(\"C:/Users/nidhi/Documents/scRNAseq/20k_NSCLC_DTC_3p_nextgem_Multiplex_count_raw_feature_bc_matrix.h5\")"
   ]
  },
  {
   "cell_type": "code",
   "execution_count": 34,
   "id": "f5b71dd2-3a48-433c-8545-23b0e49ced4d",
   "metadata": {},
   "outputs": [
    {
     "name": "stdout",
     "output_type": "stream",
     "text": [
      "List of 3\n",
      " $ Gene Expression     :Formal class 'dgCMatrix' [package \"Matrix\"] with 6 slots\n",
      "  .. ..@ i       : int [1:75593104] 184 7502 9727 10485 13480 21902 24894 25667 28658 31547 ...\n",
      "  .. ..@ p       : int [1:3862364] 0 0 0 12 14 14 21 21 25 25 ...\n",
      "  .. ..@ Dim     : int [1:2] 36601 3862363\n",
      "  .. ..@ Dimnames:List of 2\n",
      "  .. .. ..$ : chr [1:36601] \"MIR1302-2HG\" \"FAM138A\" \"OR4F5\" \"AL627309.1\" ...\n",
      "  .. .. ..$ : chr [1:3862363] \"AAACCCAAGAAACACT-1\" \"AAACCCAAGAAACCAT-1\" \"AAACCCAAGAAACCCA-1\" \"AAACCCAAGAAACCCG-1\" ...\n",
      "  .. ..@ x       : num [1:75593104] 1 1 1 1 1 1 1 1 1 1 ...\n",
      "  .. ..@ factors : list()\n",
      " $ Antibody Capture    :Formal class 'dgCMatrix' [package \"Matrix\"] with 6 slots\n",
      "  .. ..@ i       : int [1:1159120] 8 4 3 1 1 0 3 0 3 1 ...\n",
      "  .. ..@ p       : int [1:3862364] 0 0 0 0 0 0 1 1 1 2 ...\n",
      "  .. ..@ Dim     : int [1:2] 9 3862363\n",
      "  .. ..@ Dimnames:List of 2\n",
      "  .. .. ..$ : chr [1:9] \"CD3\" \"CD4.1\" \"CD8\" \"CD11c\" ...\n",
      "  .. .. ..$ : chr [1:3862363] \"AAACCCAAGAAACACT-1\" \"AAACCCAAGAAACCAT-1\" \"AAACCCAAGAAACCCA-1\" \"AAACCCAAGAAACCCG-1\" ...\n",
      "  .. ..@ x       : num [1:1159120] 1 1 1 1 1 1 1 1 1 1 ...\n",
      "  .. ..@ factors : list()\n",
      " $ Multiplexing Capture:Formal class 'dgCMatrix' [package \"Matrix\"] with 6 slots\n",
      "  .. ..@ i       : int [1:4065555] 2 5 1 0 1 0 2 5 5 0 ...\n",
      "  .. ..@ p       : int [1:3862364] 0 2 3 3 3 4 5 6 8 8 ...\n",
      "  .. ..@ Dim     : int [1:2] 12 3862363\n",
      "  .. ..@ Dimnames:List of 2\n",
      "  .. .. ..$ : chr [1:12] \"CMO301\" \"CMO302\" \"CMO303\" \"CMO304\" ...\n",
      "  .. .. ..$ : chr [1:3862363] \"AAACCCAAGAAACACT-1\" \"AAACCCAAGAAACCAT-1\" \"AAACCCAAGAAACCCA-1\" \"AAACCCAAGAAACCCG-1\" ...\n",
      "  .. ..@ x       : num [1:4065555] 1 1 1 1 1 1 1 1 1 1 ...\n",
      "  .. ..@ factors : list()\n"
     ]
    }
   ],
   "source": [
    "str(nsclc_m)"
   ]
  },
  {
   "cell_type": "code",
   "execution_count": 35,
   "id": "22fd17f5-a44f-432c-ae1f-dcb02fdc3965",
   "metadata": {},
   "outputs": [
    {
     "data": {
      "text/plain": [
       "5 x 3 sparse Matrix of class \"dgCMatrix\"\n",
       "            AAACCCAAGAAACACT-1 AAACCCAAGAAACCAT-1 AAACCCAAGAAACCCA-1\n",
       "MIR1302-2HG                  .                  .                  .\n",
       "FAM138A                      .                  .                  .\n",
       "OR4F5                        .                  .                  .\n",
       "AL627309.1                   .                  .                  .\n",
       "AL627309.3                   .                  .                  ."
      ]
     },
     "metadata": {},
     "output_type": "display_data"
    }
   ],
   "source": [
    "counts <- nsclc_m$`Gene Expression`\n",
    "counts[0:5,0:3]"
   ]
  },
  {
   "cell_type": "code",
   "execution_count": 36,
   "id": "fbbf22f7-8f96-43f5-b29e-7171b7df0a8a",
   "metadata": {},
   "outputs": [
    {
     "name": "stdout",
     "output_type": "stream",
     "text": [
      "Formal class 'Seurat' [package \"SeuratObject\"] with 13 slots\n",
      "  ..@ assays      :List of 1\n",
      "  .. ..$ RNA:Formal class 'Assay5' [package \"SeuratObject\"] with 8 slots\n",
      "  .. .. .. ..@ layers    :List of 1\n",
      "  .. .. .. .. ..$ counts:Formal class 'dgCMatrix' [package \"Matrix\"] with 6 slots\n",
      "  .. .. .. .. .. .. ..@ i       : int [1:63710619] 59 64 76 77 89 98 142 204 270 312 ...\n",
      "  .. .. .. .. .. .. ..@ p       : int [1:42082] 0 789 1040 1401 1649 1950 8346 12231 12456 12884 ...\n",
      "  .. .. .. .. .. .. ..@ Dim     : int [1:2] 29552 42081\n",
      "  .. .. .. .. .. .. ..@ Dimnames:List of 2\n",
      "  .. .. .. .. .. .. .. ..$ : NULL\n",
      "  .. .. .. .. .. .. .. ..$ : NULL\n",
      "  .. .. .. .. .. .. ..@ x       : num [1:63710619] 1 2 1 2 1 1 1 1 1 1 ...\n",
      "  .. .. .. .. .. .. ..@ factors : list()\n",
      "  .. .. .. ..@ cells     :Formal class 'LogMap' [package \"SeuratObject\"] with 1 slot\n",
      "  .. .. .. .. .. ..@ .Data: logi [1:42081, 1] TRUE TRUE TRUE TRUE TRUE TRUE ...\n",
      "  .. .. .. .. .. .. ..- attr(*, \"dimnames\")=List of 2\n",
      "  .. .. .. .. .. .. .. ..$ : chr [1:42081] \"AAACCCAAGAATTTGG-1\" \"AAACCCAAGAGATTCA-1\" \"AAACCCAAGATTGACA-1\" \"AAACCCAAGCAAATCA-1\" ...\n",
      "  .. .. .. .. .. .. .. ..$ : chr \"counts\"\n",
      "  .. .. .. .. .. ..$ dim     : int [1:2] 42081 1\n",
      "  .. .. .. .. .. ..$ dimnames:List of 2\n",
      "  .. .. .. .. .. .. ..$ : chr [1:42081] \"AAACCCAAGAATTTGG-1\" \"AAACCCAAGAGATTCA-1\" \"AAACCCAAGATTGACA-1\" \"AAACCCAAGCAAATCA-1\" ...\n",
      "  .. .. .. .. .. .. ..$ : chr \"counts\"\n",
      "  .. .. .. ..@ features  :Formal class 'LogMap' [package \"SeuratObject\"] with 1 slot\n",
      "  .. .. .. .. .. ..@ .Data: logi [1:29552, 1] TRUE TRUE TRUE TRUE TRUE TRUE ...\n",
      "  .. .. .. .. .. .. ..- attr(*, \"dimnames\")=List of 2\n",
      "  .. .. .. .. .. .. .. ..$ : chr [1:29552] \"AL627309.1\" \"AL627309.3\" \"AL627309.5\" \"AL627309.4\" ...\n",
      "  .. .. .. .. .. .. .. ..$ : chr \"counts\"\n",
      "  .. .. .. .. .. ..$ dim     : int [1:2] 29552 1\n",
      "  .. .. .. .. .. ..$ dimnames:List of 2\n",
      "  .. .. .. .. .. .. ..$ : chr [1:29552] \"AL627309.1\" \"AL627309.3\" \"AL627309.5\" \"AL627309.4\" ...\n",
      "  .. .. .. .. .. .. ..$ : chr \"counts\"\n",
      "  .. .. .. ..@ default   : int 1\n",
      "  .. .. .. ..@ assay.orig: chr(0) \n",
      "  .. .. .. ..@ meta.data :'data.frame':\t29552 obs. of  0 variables\n",
      "  .. .. .. ..@ misc      :List of 1\n",
      "  .. .. .. .. ..$ calcN: logi TRUE\n",
      "  .. .. .. ..@ key       : chr \"rna_\"\n",
      "  ..@ meta.data   :'data.frame':\t42081 obs. of  3 variables:\n",
      "  .. ..$ orig.ident  : Factor w/ 1 level \"nsclc_test\": 1 1 1 1 1 1 1 1 1 1 ...\n",
      "  .. ..$ nCount_RNA  : num [1:42081] 1333 295 470 296 364 ...\n",
      "  .. ..$ nFeature_RNA: int [1:42081] 789 251 361 248 301 6396 3885 225 428 215 ...\n",
      "  ..@ active.assay: chr \"RNA\"\n",
      "  ..@ active.ident: Factor w/ 1 level \"nsclc_test\": 1 1 1 1 1 1 1 1 1 1 ...\n",
      "  .. ..- attr(*, \"names\")= chr [1:42081] \"AAACCCAAGAATTTGG-1\" \"AAACCCAAGAGATTCA-1\" \"AAACCCAAGATTGACA-1\" \"AAACCCAAGCAAATCA-1\" ...\n",
      "  ..@ graphs      : list()\n",
      "  ..@ neighbors   : list()\n",
      "  ..@ reductions  : list()\n",
      "  ..@ images      : list()\n",
      "  ..@ project.name: chr \"nsclc_test\"\n",
      "  ..@ misc        : list()\n",
      "  ..@ version     :Classes 'package_version', 'numeric_version'  hidden list of 1\n",
      "  .. ..$ : int [1:3] 5 0 1\n",
      "  ..@ commands    : list()\n",
      "  ..@ tools       : list()\n"
     ]
    }
   ],
   "source": [
    "nsclc.sobj <- CreateSeuratObject(counts = counts, project=\"nsclc_test\",min.cells=3,min.features=200)\n",
    "str(nsclc.sobj)"
   ]
  },
  {
   "cell_type": "code",
   "execution_count": 55,
   "id": "62fd6886-bbba-476c-891f-3681cf7545ec",
   "metadata": {},
   "outputs": [],
   "source": [
    "##### QC of raw counts #####\n",
    "### 1. % MT ###"
   ]
  },
  {
   "cell_type": "code",
   "execution_count": 56,
   "id": "1952d04a-e552-4625-8ca3-c967c4733161",
   "metadata": {},
   "outputs": [
    {
     "data": {
      "text/html": [
       "<table class=\"dataframe\">\n",
       "<caption>A data.frame: 24708 × 4</caption>\n",
       "<thead>\n",
       "\t<tr><th></th><th scope=col>orig.ident</th><th scope=col>nCount_RNA</th><th scope=col>nFeature_RNA</th><th scope=col>mt_percent</th></tr>\n",
       "\t<tr><th></th><th scope=col>&lt;fct&gt;</th><th scope=col>&lt;dbl&gt;</th><th scope=col>&lt;int&gt;</th><th scope=col>&lt;dbl&gt;</th></tr>\n",
       "</thead>\n",
       "<tbody>\n",
       "\t<tr><th scope=row>AAACCCAAGAGATTCA-1</th><td>nsclc_test</td><td> 295</td><td> 251</td><td>4.4067797</td></tr>\n",
       "\t<tr><th scope=row>AAACCCAAGATTGACA-1</th><td>nsclc_test</td><td> 470</td><td> 361</td><td>2.1276596</td></tr>\n",
       "\t<tr><th scope=row>AAACCCAAGCAAATCA-1</th><td>nsclc_test</td><td> 296</td><td> 248</td><td>2.3648649</td></tr>\n",
       "\t<tr><th scope=row>AAACCCAAGCAATTCC-1</th><td>nsclc_test</td><td> 364</td><td> 301</td><td>2.4725275</td></tr>\n",
       "\t<tr><th scope=row>AAACCCAAGCCGTTGC-1</th><td>nsclc_test</td><td> 260</td><td> 225</td><td>1.9230769</td></tr>\n",
       "\t<tr><th scope=row>AAACCCAAGCCTCTCT-1</th><td>nsclc_test</td><td> 263</td><td> 215</td><td>1.5209125</td></tr>\n",
       "\t<tr><th scope=row>AAACCCAAGCGGTAAC-1</th><td>nsclc_test</td><td> 274</td><td> 237</td><td>2.9197080</td></tr>\n",
       "\t<tr><th scope=row>AAACCCAAGGCTCCCA-1</th><td>nsclc_test</td><td> 325</td><td> 267</td><td>2.1538462</td></tr>\n",
       "\t<tr><th scope=row>AAACCCAAGGTCACTT-1</th><td>nsclc_test</td><td> 344</td><td> 292</td><td>2.3255814</td></tr>\n",
       "\t<tr><th scope=row>AAACCCAAGTAACGTA-1</th><td>nsclc_test</td><td> 503</td><td> 389</td><td>1.7892644</td></tr>\n",
       "\t<tr><th scope=row>AAACCCAAGTATGGAT-1</th><td>nsclc_test</td><td> 257</td><td> 214</td><td>4.2801556</td></tr>\n",
       "\t<tr><th scope=row>AAACCCAAGTCATTGC-1</th><td>nsclc_test</td><td> 239</td><td> 211</td><td>1.6736402</td></tr>\n",
       "\t<tr><th scope=row>AAACCCAAGTTAGTGA-1</th><td>nsclc_test</td><td> 245</td><td> 209</td><td>1.6326531</td></tr>\n",
       "\t<tr><th scope=row>AAACCCACAAACCATC-1</th><td>nsclc_test</td><td> 269</td><td> 233</td><td>3.3457249</td></tr>\n",
       "\t<tr><th scope=row>AAACCCACAAAGAACT-1</th><td>nsclc_test</td><td> 350</td><td> 279</td><td>2.8571429</td></tr>\n",
       "\t<tr><th scope=row>AAACCCACAAAGCTAA-1</th><td>nsclc_test</td><td> 632</td><td> 453</td><td>3.9556962</td></tr>\n",
       "\t<tr><th scope=row>AAACCCACAAATGGAT-1</th><td>nsclc_test</td><td> 524</td><td> 431</td><td>3.2442748</td></tr>\n",
       "\t<tr><th scope=row>AAACCCACAATTGAGA-1</th><td>nsclc_test</td><td> 294</td><td> 251</td><td>2.7210884</td></tr>\n",
       "\t<tr><th scope=row>AAACCCACACTCGATA-1</th><td>nsclc_test</td><td> 345</td><td> 277</td><td>2.8985507</td></tr>\n",
       "\t<tr><th scope=row>AAACCCACAGACATCT-1</th><td>nsclc_test</td><td>3083</td><td>1160</td><td>1.6542329</td></tr>\n",
       "\t<tr><th scope=row>AAACCCACAGATACTC-1</th><td>nsclc_test</td><td> 257</td><td> 219</td><td>3.5019455</td></tr>\n",
       "\t<tr><th scope=row>AAACCCACAGCCGGTT-1</th><td>nsclc_test</td><td>4466</td><td>1307</td><td>1.2091357</td></tr>\n",
       "\t<tr><th scope=row>AAACCCACAGCCTATA-1</th><td>nsclc_test</td><td> 273</td><td> 232</td><td>2.5641026</td></tr>\n",
       "\t<tr><th scope=row>AAACCCACAGTGGGTA-1</th><td>nsclc_test</td><td> 296</td><td> 246</td><td>2.0270270</td></tr>\n",
       "\t<tr><th scope=row>AAACCCACATGCCGGT-1</th><td>nsclc_test</td><td> 240</td><td> 207</td><td>2.9166667</td></tr>\n",
       "\t<tr><th scope=row>AAACCCACATGGATCT-1</th><td>nsclc_test</td><td> 429</td><td> 338</td><td>3.0303030</td></tr>\n",
       "\t<tr><th scope=row>AAACCCACATGTTACG-1</th><td>nsclc_test</td><td> 598</td><td> 450</td><td>3.6789298</td></tr>\n",
       "\t<tr><th scope=row>AAACCCAGTAGTGCGA-1</th><td>nsclc_test</td><td> 254</td><td> 218</td><td>0.7874016</td></tr>\n",
       "\t<tr><th scope=row>AAACCCAGTGAGACCA-1</th><td>nsclc_test</td><td> 306</td><td> 250</td><td>1.9607843</td></tr>\n",
       "\t<tr><th scope=row>AAACCCAGTTCTGACA-1</th><td>nsclc_test</td><td> 378</td><td> 299</td><td>3.4391534</td></tr>\n",
       "\t<tr><th scope=row>...</th><td>...</td><td>...</td><td>...</td><td>...</td></tr>\n",
       "\t<tr><th scope=row>TTTGGTTGTCGCCACA-1</th><td>nsclc_test</td><td> 238</td><td> 204</td><td>3.3613445</td></tr>\n",
       "\t<tr><th scope=row>TTTGGTTGTGTCCATA-1</th><td>nsclc_test</td><td> 267</td><td> 238</td><td>1.8726592</td></tr>\n",
       "\t<tr><th scope=row>TTTGGTTGTTTCCCAC-1</th><td>nsclc_test</td><td> 306</td><td> 251</td><td>2.9411765</td></tr>\n",
       "\t<tr><th scope=row>TTTGGTTTCATGAGAA-1</th><td>nsclc_test</td><td> 239</td><td> 202</td><td>2.5104603</td></tr>\n",
       "\t<tr><th scope=row>TTTGGTTTCCAACTAG-1</th><td>nsclc_test</td><td> 299</td><td> 249</td><td>3.0100334</td></tr>\n",
       "\t<tr><th scope=row>TTTGGTTTCCATGATG-1</th><td>nsclc_test</td><td>3067</td><td>1398</td><td>2.0541246</td></tr>\n",
       "\t<tr><th scope=row>TTTGGTTTCTCTCGCA-1</th><td>nsclc_test</td><td> 287</td><td> 236</td><td>2.0905923</td></tr>\n",
       "\t<tr><th scope=row>TTTGGTTTCTGATTCT-1</th><td>nsclc_test</td><td> 304</td><td> 262</td><td>3.2894737</td></tr>\n",
       "\t<tr><th scope=row>TTTGGTTTCTTCACAT-1</th><td>nsclc_test</td><td> 270</td><td> 235</td><td>2.2222222</td></tr>\n",
       "\t<tr><th scope=row>TTTGTTGAGAATCTAG-1</th><td>nsclc_test</td><td> 262</td><td> 221</td><td>2.2900763</td></tr>\n",
       "\t<tr><th scope=row>TTTGTTGAGCCTCAGC-1</th><td>nsclc_test</td><td>4999</td><td>1453</td><td>3.2606521</td></tr>\n",
       "\t<tr><th scope=row>TTTGTTGAGTAAAGCT-1</th><td>nsclc_test</td><td> 284</td><td> 241</td><td>2.1126761</td></tr>\n",
       "\t<tr><th scope=row>TTTGTTGAGTATAGAC-1</th><td>nsclc_test</td><td>4522</td><td>1491</td><td>1.5479876</td></tr>\n",
       "\t<tr><th scope=row>TTTGTTGCACAAATAG-1</th><td>nsclc_test</td><td>4533</td><td>1540</td><td>2.9340393</td></tr>\n",
       "\t<tr><th scope=row>TTTGTTGCAGAGTCTT-1</th><td>nsclc_test</td><td> 240</td><td> 205</td><td>1.6666667</td></tr>\n",
       "\t<tr><th scope=row>TTTGTTGCAGGACGAT-1</th><td>nsclc_test</td><td>1371</td><td> 790</td><td>4.2304887</td></tr>\n",
       "\t<tr><th scope=row>TTTGTTGCATGAGAAT-1</th><td>nsclc_test</td><td>4412</td><td>1385</td><td>3.4451496</td></tr>\n",
       "\t<tr><th scope=row>TTTGTTGGTATTCCTT-1</th><td>nsclc_test</td><td> 264</td><td> 227</td><td>1.1363636</td></tr>\n",
       "\t<tr><th scope=row>TTTGTTGTCAACTGAC-1</th><td>nsclc_test</td><td>9050</td><td>2335</td><td>3.5248619</td></tr>\n",
       "\t<tr><th scope=row>TTTGTTGTCAAGCCAT-1</th><td>nsclc_test</td><td>4426</td><td>1331</td><td>4.1346588</td></tr>\n",
       "\t<tr><th scope=row>TTTGTTGTCAGACCCG-1</th><td>nsclc_test</td><td> 239</td><td> 207</td><td>1.2552301</td></tr>\n",
       "\t<tr><th scope=row>TTTGTTGTCATCTATC-1</th><td>nsclc_test</td><td>5488</td><td>1767</td><td>4.8833819</td></tr>\n",
       "\t<tr><th scope=row>TTTGTTGTCCACGTAA-1</th><td>nsclc_test</td><td>2241</td><td> 945</td><td>2.5881303</td></tr>\n",
       "\t<tr><th scope=row>TTTGTTGTCCCATTTA-1</th><td>nsclc_test</td><td> 361</td><td> 290</td><td>2.2160665</td></tr>\n",
       "\t<tr><th scope=row>TTTGTTGTCGAAATCC-1</th><td>nsclc_test</td><td>5177</td><td>1273</td><td>3.7473440</td></tr>\n",
       "\t<tr><th scope=row>TTTGTTGTCGCTACGG-1</th><td>nsclc_test</td><td> 254</td><td> 214</td><td>1.5748031</td></tr>\n",
       "\t<tr><th scope=row>TTTGTTGTCGGTTCAA-1</th><td>nsclc_test</td><td> 247</td><td> 209</td><td>0.8097166</td></tr>\n",
       "\t<tr><th scope=row>TTTGTTGTCTCGCAGG-1</th><td>nsclc_test</td><td> 271</td><td> 232</td><td>1.8450185</td></tr>\n",
       "\t<tr><th scope=row>TTTGTTGTCTGTCCCA-1</th><td>nsclc_test</td><td> 312</td><td> 259</td><td>2.2435897</td></tr>\n",
       "\t<tr><th scope=row>TTTGTTGTCTTGGAAC-1</th><td>nsclc_test</td><td>5841</td><td>1899</td><td>2.8248588</td></tr>\n",
       "</tbody>\n",
       "</table>\n"
      ],
      "text/latex": [
       "A data.frame: 24708 × 4\n",
       "\\begin{tabular}{r|llll}\n",
       "  & orig.ident & nCount\\_RNA & nFeature\\_RNA & mt\\_percent\\\\\n",
       "  & <fct> & <dbl> & <int> & <dbl>\\\\\n",
       "\\hline\n",
       "\tAAACCCAAGAGATTCA-1 & nsclc\\_test &  295 &  251 & 4.4067797\\\\\n",
       "\tAAACCCAAGATTGACA-1 & nsclc\\_test &  470 &  361 & 2.1276596\\\\\n",
       "\tAAACCCAAGCAAATCA-1 & nsclc\\_test &  296 &  248 & 2.3648649\\\\\n",
       "\tAAACCCAAGCAATTCC-1 & nsclc\\_test &  364 &  301 & 2.4725275\\\\\n",
       "\tAAACCCAAGCCGTTGC-1 & nsclc\\_test &  260 &  225 & 1.9230769\\\\\n",
       "\tAAACCCAAGCCTCTCT-1 & nsclc\\_test &  263 &  215 & 1.5209125\\\\\n",
       "\tAAACCCAAGCGGTAAC-1 & nsclc\\_test &  274 &  237 & 2.9197080\\\\\n",
       "\tAAACCCAAGGCTCCCA-1 & nsclc\\_test &  325 &  267 & 2.1538462\\\\\n",
       "\tAAACCCAAGGTCACTT-1 & nsclc\\_test &  344 &  292 & 2.3255814\\\\\n",
       "\tAAACCCAAGTAACGTA-1 & nsclc\\_test &  503 &  389 & 1.7892644\\\\\n",
       "\tAAACCCAAGTATGGAT-1 & nsclc\\_test &  257 &  214 & 4.2801556\\\\\n",
       "\tAAACCCAAGTCATTGC-1 & nsclc\\_test &  239 &  211 & 1.6736402\\\\\n",
       "\tAAACCCAAGTTAGTGA-1 & nsclc\\_test &  245 &  209 & 1.6326531\\\\\n",
       "\tAAACCCACAAACCATC-1 & nsclc\\_test &  269 &  233 & 3.3457249\\\\\n",
       "\tAAACCCACAAAGAACT-1 & nsclc\\_test &  350 &  279 & 2.8571429\\\\\n",
       "\tAAACCCACAAAGCTAA-1 & nsclc\\_test &  632 &  453 & 3.9556962\\\\\n",
       "\tAAACCCACAAATGGAT-1 & nsclc\\_test &  524 &  431 & 3.2442748\\\\\n",
       "\tAAACCCACAATTGAGA-1 & nsclc\\_test &  294 &  251 & 2.7210884\\\\\n",
       "\tAAACCCACACTCGATA-1 & nsclc\\_test &  345 &  277 & 2.8985507\\\\\n",
       "\tAAACCCACAGACATCT-1 & nsclc\\_test & 3083 & 1160 & 1.6542329\\\\\n",
       "\tAAACCCACAGATACTC-1 & nsclc\\_test &  257 &  219 & 3.5019455\\\\\n",
       "\tAAACCCACAGCCGGTT-1 & nsclc\\_test & 4466 & 1307 & 1.2091357\\\\\n",
       "\tAAACCCACAGCCTATA-1 & nsclc\\_test &  273 &  232 & 2.5641026\\\\\n",
       "\tAAACCCACAGTGGGTA-1 & nsclc\\_test &  296 &  246 & 2.0270270\\\\\n",
       "\tAAACCCACATGCCGGT-1 & nsclc\\_test &  240 &  207 & 2.9166667\\\\\n",
       "\tAAACCCACATGGATCT-1 & nsclc\\_test &  429 &  338 & 3.0303030\\\\\n",
       "\tAAACCCACATGTTACG-1 & nsclc\\_test &  598 &  450 & 3.6789298\\\\\n",
       "\tAAACCCAGTAGTGCGA-1 & nsclc\\_test &  254 &  218 & 0.7874016\\\\\n",
       "\tAAACCCAGTGAGACCA-1 & nsclc\\_test &  306 &  250 & 1.9607843\\\\\n",
       "\tAAACCCAGTTCTGACA-1 & nsclc\\_test &  378 &  299 & 3.4391534\\\\\n",
       "\t... & ... & ... & ... & ...\\\\\n",
       "\tTTTGGTTGTCGCCACA-1 & nsclc\\_test &  238 &  204 & 3.3613445\\\\\n",
       "\tTTTGGTTGTGTCCATA-1 & nsclc\\_test &  267 &  238 & 1.8726592\\\\\n",
       "\tTTTGGTTGTTTCCCAC-1 & nsclc\\_test &  306 &  251 & 2.9411765\\\\\n",
       "\tTTTGGTTTCATGAGAA-1 & nsclc\\_test &  239 &  202 & 2.5104603\\\\\n",
       "\tTTTGGTTTCCAACTAG-1 & nsclc\\_test &  299 &  249 & 3.0100334\\\\\n",
       "\tTTTGGTTTCCATGATG-1 & nsclc\\_test & 3067 & 1398 & 2.0541246\\\\\n",
       "\tTTTGGTTTCTCTCGCA-1 & nsclc\\_test &  287 &  236 & 2.0905923\\\\\n",
       "\tTTTGGTTTCTGATTCT-1 & nsclc\\_test &  304 &  262 & 3.2894737\\\\\n",
       "\tTTTGGTTTCTTCACAT-1 & nsclc\\_test &  270 &  235 & 2.2222222\\\\\n",
       "\tTTTGTTGAGAATCTAG-1 & nsclc\\_test &  262 &  221 & 2.2900763\\\\\n",
       "\tTTTGTTGAGCCTCAGC-1 & nsclc\\_test & 4999 & 1453 & 3.2606521\\\\\n",
       "\tTTTGTTGAGTAAAGCT-1 & nsclc\\_test &  284 &  241 & 2.1126761\\\\\n",
       "\tTTTGTTGAGTATAGAC-1 & nsclc\\_test & 4522 & 1491 & 1.5479876\\\\\n",
       "\tTTTGTTGCACAAATAG-1 & nsclc\\_test & 4533 & 1540 & 2.9340393\\\\\n",
       "\tTTTGTTGCAGAGTCTT-1 & nsclc\\_test &  240 &  205 & 1.6666667\\\\\n",
       "\tTTTGTTGCAGGACGAT-1 & nsclc\\_test & 1371 &  790 & 4.2304887\\\\\n",
       "\tTTTGTTGCATGAGAAT-1 & nsclc\\_test & 4412 & 1385 & 3.4451496\\\\\n",
       "\tTTTGTTGGTATTCCTT-1 & nsclc\\_test &  264 &  227 & 1.1363636\\\\\n",
       "\tTTTGTTGTCAACTGAC-1 & nsclc\\_test & 9050 & 2335 & 3.5248619\\\\\n",
       "\tTTTGTTGTCAAGCCAT-1 & nsclc\\_test & 4426 & 1331 & 4.1346588\\\\\n",
       "\tTTTGTTGTCAGACCCG-1 & nsclc\\_test &  239 &  207 & 1.2552301\\\\\n",
       "\tTTTGTTGTCATCTATC-1 & nsclc\\_test & 5488 & 1767 & 4.8833819\\\\\n",
       "\tTTTGTTGTCCACGTAA-1 & nsclc\\_test & 2241 &  945 & 2.5881303\\\\\n",
       "\tTTTGTTGTCCCATTTA-1 & nsclc\\_test &  361 &  290 & 2.2160665\\\\\n",
       "\tTTTGTTGTCGAAATCC-1 & nsclc\\_test & 5177 & 1273 & 3.7473440\\\\\n",
       "\tTTTGTTGTCGCTACGG-1 & nsclc\\_test &  254 &  214 & 1.5748031\\\\\n",
       "\tTTTGTTGTCGGTTCAA-1 & nsclc\\_test &  247 &  209 & 0.8097166\\\\\n",
       "\tTTTGTTGTCTCGCAGG-1 & nsclc\\_test &  271 &  232 & 1.8450185\\\\\n",
       "\tTTTGTTGTCTGTCCCA-1 & nsclc\\_test &  312 &  259 & 2.2435897\\\\\n",
       "\tTTTGTTGTCTTGGAAC-1 & nsclc\\_test & 5841 & 1899 & 2.8248588\\\\\n",
       "\\end{tabular}\n"
      ],
      "text/markdown": [
       "\n",
       "A data.frame: 24708 × 4\n",
       "\n",
       "| <!--/--> | orig.ident &lt;fct&gt; | nCount_RNA &lt;dbl&gt; | nFeature_RNA &lt;int&gt; | mt_percent &lt;dbl&gt; |\n",
       "|---|---|---|---|---|\n",
       "| AAACCCAAGAGATTCA-1 | nsclc_test |  295 |  251 | 4.4067797 |\n",
       "| AAACCCAAGATTGACA-1 | nsclc_test |  470 |  361 | 2.1276596 |\n",
       "| AAACCCAAGCAAATCA-1 | nsclc_test |  296 |  248 | 2.3648649 |\n",
       "| AAACCCAAGCAATTCC-1 | nsclc_test |  364 |  301 | 2.4725275 |\n",
       "| AAACCCAAGCCGTTGC-1 | nsclc_test |  260 |  225 | 1.9230769 |\n",
       "| AAACCCAAGCCTCTCT-1 | nsclc_test |  263 |  215 | 1.5209125 |\n",
       "| AAACCCAAGCGGTAAC-1 | nsclc_test |  274 |  237 | 2.9197080 |\n",
       "| AAACCCAAGGCTCCCA-1 | nsclc_test |  325 |  267 | 2.1538462 |\n",
       "| AAACCCAAGGTCACTT-1 | nsclc_test |  344 |  292 | 2.3255814 |\n",
       "| AAACCCAAGTAACGTA-1 | nsclc_test |  503 |  389 | 1.7892644 |\n",
       "| AAACCCAAGTATGGAT-1 | nsclc_test |  257 |  214 | 4.2801556 |\n",
       "| AAACCCAAGTCATTGC-1 | nsclc_test |  239 |  211 | 1.6736402 |\n",
       "| AAACCCAAGTTAGTGA-1 | nsclc_test |  245 |  209 | 1.6326531 |\n",
       "| AAACCCACAAACCATC-1 | nsclc_test |  269 |  233 | 3.3457249 |\n",
       "| AAACCCACAAAGAACT-1 | nsclc_test |  350 |  279 | 2.8571429 |\n",
       "| AAACCCACAAAGCTAA-1 | nsclc_test |  632 |  453 | 3.9556962 |\n",
       "| AAACCCACAAATGGAT-1 | nsclc_test |  524 |  431 | 3.2442748 |\n",
       "| AAACCCACAATTGAGA-1 | nsclc_test |  294 |  251 | 2.7210884 |\n",
       "| AAACCCACACTCGATA-1 | nsclc_test |  345 |  277 | 2.8985507 |\n",
       "| AAACCCACAGACATCT-1 | nsclc_test | 3083 | 1160 | 1.6542329 |\n",
       "| AAACCCACAGATACTC-1 | nsclc_test |  257 |  219 | 3.5019455 |\n",
       "| AAACCCACAGCCGGTT-1 | nsclc_test | 4466 | 1307 | 1.2091357 |\n",
       "| AAACCCACAGCCTATA-1 | nsclc_test |  273 |  232 | 2.5641026 |\n",
       "| AAACCCACAGTGGGTA-1 | nsclc_test |  296 |  246 | 2.0270270 |\n",
       "| AAACCCACATGCCGGT-1 | nsclc_test |  240 |  207 | 2.9166667 |\n",
       "| AAACCCACATGGATCT-1 | nsclc_test |  429 |  338 | 3.0303030 |\n",
       "| AAACCCACATGTTACG-1 | nsclc_test |  598 |  450 | 3.6789298 |\n",
       "| AAACCCAGTAGTGCGA-1 | nsclc_test |  254 |  218 | 0.7874016 |\n",
       "| AAACCCAGTGAGACCA-1 | nsclc_test |  306 |  250 | 1.9607843 |\n",
       "| AAACCCAGTTCTGACA-1 | nsclc_test |  378 |  299 | 3.4391534 |\n",
       "| ... | ... | ... | ... | ... |\n",
       "| TTTGGTTGTCGCCACA-1 | nsclc_test |  238 |  204 | 3.3613445 |\n",
       "| TTTGGTTGTGTCCATA-1 | nsclc_test |  267 |  238 | 1.8726592 |\n",
       "| TTTGGTTGTTTCCCAC-1 | nsclc_test |  306 |  251 | 2.9411765 |\n",
       "| TTTGGTTTCATGAGAA-1 | nsclc_test |  239 |  202 | 2.5104603 |\n",
       "| TTTGGTTTCCAACTAG-1 | nsclc_test |  299 |  249 | 3.0100334 |\n",
       "| TTTGGTTTCCATGATG-1 | nsclc_test | 3067 | 1398 | 2.0541246 |\n",
       "| TTTGGTTTCTCTCGCA-1 | nsclc_test |  287 |  236 | 2.0905923 |\n",
       "| TTTGGTTTCTGATTCT-1 | nsclc_test |  304 |  262 | 3.2894737 |\n",
       "| TTTGGTTTCTTCACAT-1 | nsclc_test |  270 |  235 | 2.2222222 |\n",
       "| TTTGTTGAGAATCTAG-1 | nsclc_test |  262 |  221 | 2.2900763 |\n",
       "| TTTGTTGAGCCTCAGC-1 | nsclc_test | 4999 | 1453 | 3.2606521 |\n",
       "| TTTGTTGAGTAAAGCT-1 | nsclc_test |  284 |  241 | 2.1126761 |\n",
       "| TTTGTTGAGTATAGAC-1 | nsclc_test | 4522 | 1491 | 1.5479876 |\n",
       "| TTTGTTGCACAAATAG-1 | nsclc_test | 4533 | 1540 | 2.9340393 |\n",
       "| TTTGTTGCAGAGTCTT-1 | nsclc_test |  240 |  205 | 1.6666667 |\n",
       "| TTTGTTGCAGGACGAT-1 | nsclc_test | 1371 |  790 | 4.2304887 |\n",
       "| TTTGTTGCATGAGAAT-1 | nsclc_test | 4412 | 1385 | 3.4451496 |\n",
       "| TTTGTTGGTATTCCTT-1 | nsclc_test |  264 |  227 | 1.1363636 |\n",
       "| TTTGTTGTCAACTGAC-1 | nsclc_test | 9050 | 2335 | 3.5248619 |\n",
       "| TTTGTTGTCAAGCCAT-1 | nsclc_test | 4426 | 1331 | 4.1346588 |\n",
       "| TTTGTTGTCAGACCCG-1 | nsclc_test |  239 |  207 | 1.2552301 |\n",
       "| TTTGTTGTCATCTATC-1 | nsclc_test | 5488 | 1767 | 4.8833819 |\n",
       "| TTTGTTGTCCACGTAA-1 | nsclc_test | 2241 |  945 | 2.5881303 |\n",
       "| TTTGTTGTCCCATTTA-1 | nsclc_test |  361 |  290 | 2.2160665 |\n",
       "| TTTGTTGTCGAAATCC-1 | nsclc_test | 5177 | 1273 | 3.7473440 |\n",
       "| TTTGTTGTCGCTACGG-1 | nsclc_test |  254 |  214 | 1.5748031 |\n",
       "| TTTGTTGTCGGTTCAA-1 | nsclc_test |  247 |  209 | 0.8097166 |\n",
       "| TTTGTTGTCTCGCAGG-1 | nsclc_test |  271 |  232 | 1.8450185 |\n",
       "| TTTGTTGTCTGTCCCA-1 | nsclc_test |  312 |  259 | 2.2435897 |\n",
       "| TTTGTTGTCTTGGAAC-1 | nsclc_test | 5841 | 1899 | 2.8248588 |\n",
       "\n"
      ],
      "text/plain": [
       "                   orig.ident nCount_RNA nFeature_RNA mt_percent\n",
       "AAACCCAAGAGATTCA-1 nsclc_test  295        251         4.4067797 \n",
       "AAACCCAAGATTGACA-1 nsclc_test  470        361         2.1276596 \n",
       "AAACCCAAGCAAATCA-1 nsclc_test  296        248         2.3648649 \n",
       "AAACCCAAGCAATTCC-1 nsclc_test  364        301         2.4725275 \n",
       "AAACCCAAGCCGTTGC-1 nsclc_test  260        225         1.9230769 \n",
       "AAACCCAAGCCTCTCT-1 nsclc_test  263        215         1.5209125 \n",
       "AAACCCAAGCGGTAAC-1 nsclc_test  274        237         2.9197080 \n",
       "AAACCCAAGGCTCCCA-1 nsclc_test  325        267         2.1538462 \n",
       "AAACCCAAGGTCACTT-1 nsclc_test  344        292         2.3255814 \n",
       "AAACCCAAGTAACGTA-1 nsclc_test  503        389         1.7892644 \n",
       "AAACCCAAGTATGGAT-1 nsclc_test  257        214         4.2801556 \n",
       "AAACCCAAGTCATTGC-1 nsclc_test  239        211         1.6736402 \n",
       "AAACCCAAGTTAGTGA-1 nsclc_test  245        209         1.6326531 \n",
       "AAACCCACAAACCATC-1 nsclc_test  269        233         3.3457249 \n",
       "AAACCCACAAAGAACT-1 nsclc_test  350        279         2.8571429 \n",
       "AAACCCACAAAGCTAA-1 nsclc_test  632        453         3.9556962 \n",
       "AAACCCACAAATGGAT-1 nsclc_test  524        431         3.2442748 \n",
       "AAACCCACAATTGAGA-1 nsclc_test  294        251         2.7210884 \n",
       "AAACCCACACTCGATA-1 nsclc_test  345        277         2.8985507 \n",
       "AAACCCACAGACATCT-1 nsclc_test 3083       1160         1.6542329 \n",
       "AAACCCACAGATACTC-1 nsclc_test  257        219         3.5019455 \n",
       "AAACCCACAGCCGGTT-1 nsclc_test 4466       1307         1.2091357 \n",
       "AAACCCACAGCCTATA-1 nsclc_test  273        232         2.5641026 \n",
       "AAACCCACAGTGGGTA-1 nsclc_test  296        246         2.0270270 \n",
       "AAACCCACATGCCGGT-1 nsclc_test  240        207         2.9166667 \n",
       "AAACCCACATGGATCT-1 nsclc_test  429        338         3.0303030 \n",
       "AAACCCACATGTTACG-1 nsclc_test  598        450         3.6789298 \n",
       "AAACCCAGTAGTGCGA-1 nsclc_test  254        218         0.7874016 \n",
       "AAACCCAGTGAGACCA-1 nsclc_test  306        250         1.9607843 \n",
       "AAACCCAGTTCTGACA-1 nsclc_test  378        299         3.4391534 \n",
       "...                ...        ...        ...          ...       \n",
       "TTTGGTTGTCGCCACA-1 nsclc_test  238        204         3.3613445 \n",
       "TTTGGTTGTGTCCATA-1 nsclc_test  267        238         1.8726592 \n",
       "TTTGGTTGTTTCCCAC-1 nsclc_test  306        251         2.9411765 \n",
       "TTTGGTTTCATGAGAA-1 nsclc_test  239        202         2.5104603 \n",
       "TTTGGTTTCCAACTAG-1 nsclc_test  299        249         3.0100334 \n",
       "TTTGGTTTCCATGATG-1 nsclc_test 3067       1398         2.0541246 \n",
       "TTTGGTTTCTCTCGCA-1 nsclc_test  287        236         2.0905923 \n",
       "TTTGGTTTCTGATTCT-1 nsclc_test  304        262         3.2894737 \n",
       "TTTGGTTTCTTCACAT-1 nsclc_test  270        235         2.2222222 \n",
       "TTTGTTGAGAATCTAG-1 nsclc_test  262        221         2.2900763 \n",
       "TTTGTTGAGCCTCAGC-1 nsclc_test 4999       1453         3.2606521 \n",
       "TTTGTTGAGTAAAGCT-1 nsclc_test  284        241         2.1126761 \n",
       "TTTGTTGAGTATAGAC-1 nsclc_test 4522       1491         1.5479876 \n",
       "TTTGTTGCACAAATAG-1 nsclc_test 4533       1540         2.9340393 \n",
       "TTTGTTGCAGAGTCTT-1 nsclc_test  240        205         1.6666667 \n",
       "TTTGTTGCAGGACGAT-1 nsclc_test 1371        790         4.2304887 \n",
       "TTTGTTGCATGAGAAT-1 nsclc_test 4412       1385         3.4451496 \n",
       "TTTGTTGGTATTCCTT-1 nsclc_test  264        227         1.1363636 \n",
       "TTTGTTGTCAACTGAC-1 nsclc_test 9050       2335         3.5248619 \n",
       "TTTGTTGTCAAGCCAT-1 nsclc_test 4426       1331         4.1346588 \n",
       "TTTGTTGTCAGACCCG-1 nsclc_test  239        207         1.2552301 \n",
       "TTTGTTGTCATCTATC-1 nsclc_test 5488       1767         4.8833819 \n",
       "TTTGTTGTCCACGTAA-1 nsclc_test 2241        945         2.5881303 \n",
       "TTTGTTGTCCCATTTA-1 nsclc_test  361        290         2.2160665 \n",
       "TTTGTTGTCGAAATCC-1 nsclc_test 5177       1273         3.7473440 \n",
       "TTTGTTGTCGCTACGG-1 nsclc_test  254        214         1.5748031 \n",
       "TTTGTTGTCGGTTCAA-1 nsclc_test  247        209         0.8097166 \n",
       "TTTGTTGTCTCGCAGG-1 nsclc_test  271        232         1.8450185 \n",
       "TTTGTTGTCTGTCCCA-1 nsclc_test  312        259         2.2435897 \n",
       "TTTGTTGTCTTGGAAC-1 nsclc_test 5841       1899         2.8248588 "
      ]
     },
     "metadata": {},
     "output_type": "display_data"
    }
   ],
   "source": [
    "nsclc.sobj[[\"mt_percent\"]] <- PercentageFeatureSet(nsclc.sobj, pattern=\"^MT-\")\n",
    "View(nsclc.sobj@meta.data)"
   ]
  },
  {
   "cell_type": "code",
   "execution_count": 57,
   "id": "45980113-dd73-4f26-a34c-21b600e5ea28",
   "metadata": {},
   "outputs": [
    {
     "data": {
      "image/png": "[encoded data removed]",
      "text/plain": [
       "plot without title"
      ]
     },
     "metadata": {
      "image/png": {
       "height": 420,
       "width": 420
      }
     },
     "output_type": "display_data"
    }
   ],
   "source": [
    "VlnPlot(nsclc.sobj,features=c(\"nCount_RNA\", \"nFeature_RNA\", \"mt_percent\"), ncol=3)"
   ]
  },
  {
   "cell_type": "code",
   "execution_count": 58,
   "id": "91a8b61b-87df-4f2e-b413-9a20c7afdf9d",
   "metadata": {},
   "outputs": [],
   "source": [
    "# A lot of cells with large num of molecules detected\n",
    "# A lot of cells with large high %mt count"
   ]
  },
  {
   "cell_type": "code",
   "execution_count": 59,
   "id": "02e56c26-6780-4120-9993-ed65b4a15b49",
   "metadata": {},
   "outputs": [
    {
     "name": "stderr",
     "output_type": "stream",
     "text": [
      "\u001b[1m\u001b[22m`geom_smooth()` using formula = 'y ~ x'\n"
     ]
    },
    {
     "data": {
      "image/png": "[encoded data removed]",
      "text/plain": [
       "plot without title"
      ]
     },
     "metadata": {
      "image/png": {
       "height": 420,
       "width": 420
      }
     },
     "output_type": "display_data"
    }
   ],
   "source": [
    "FeatureScatter(nsclc.sobj, feature1=\"nCount_RNA\", feature2=\"nFeature_RNA\") + geom_smooth(method='lm')"
   ]
  },
  {
   "cell_type": "code",
   "execution_count": 60,
   "id": "19251141-60fe-4e1b-956a-5206a73b7d6d",
   "metadata": {},
   "outputs": [],
   "source": [
    "# good quality cells should have high number of genes AND high number of moleculesor counts\n",
    "# Lower right corner: captured a few number of genes, sequenced over and over again so has high transcript count\n",
    "# Top left corner: High number of genes captured but not deeply sequenced"
   ]
  },
  {
   "cell_type": "code",
   "execution_count": 63,
   "id": "8de27247-4a48-4534-8515-a45a2d12ac72",
   "metadata": {},
   "outputs": [],
   "source": [
    "### 2. Filtering ###"
   ]
  },
  {
   "cell_type": "code",
   "execution_count": 64,
   "id": "f0ebee4e-b5fe-4f45-a7c7-c72c7acabb20",
   "metadata": {},
   "outputs": [
    {
     "data": {
      "text/plain": [
       "An object of class Seurat \n",
       "29552 features across 24708 samples within 1 assay \n",
       "Active assay: RNA (29552 features, 2000 variable features)\n",
       " 2 layers present: counts, data"
      ]
     },
     "metadata": {},
     "output_type": "display_data"
    },
    {
     "data": {
      "text/plain": [
       "An object of class Seurat \n",
       "29552 features across 24708 samples within 1 assay \n",
       "Active assay: RNA (29552 features, 2000 variable features)\n",
       " 2 layers present: counts, data"
      ]
     },
     "metadata": {},
     "output_type": "display_data"
    }
   ],
   "source": [
    "# Subset seurat obj \n",
    "nsclc.sobj\n",
    "nsclc.sobj <- subset(nsclc.sobj, subset = nFeature_RNA > 200 & nFeature_RNA < 2500 & mt_percent < 5 )\n",
    "nsclc.sobj"
   ]
  },
  {
   "cell_type": "code",
   "execution_count": 65,
   "id": "af4d5927-25f3-4393-81ef-a5aa755af9ad",
   "metadata": {},
   "outputs": [],
   "source": [
    "### 3. Normalization ###"
   ]
  },
  {
   "cell_type": "code",
   "execution_count": 66,
   "id": "a5366055-b45c-48c6-80f1-432085bf8162",
   "metadata": {},
   "outputs": [
    {
     "name": "stderr",
     "output_type": "stream",
     "text": [
      "Normalizing layer: counts\n",
      "\n"
     ]
    },
    {
     "name": "stdout",
     "output_type": "stream",
     "text": [
      "List of 2\n",
      " $ FindVariableFeatures.RNA:Formal class 'SeuratCommand' [package \"SeuratObject\"] with 5 slots\n",
      "  .. ..@ name       : chr \"FindVariableFeatures.RNA\"\n",
      "  .. ..@ time.stamp : POSIXct[1:1], format: \"2024-09-10 22:49:07\"\n",
      "  .. ..@ assay.used : chr \"RNA\"\n",
      "  .. ..@ call.string: chr [1:2] \"FindVariableFeatures(nsclc.sobj, selection.method = \\\"vst\\\", \" \"    nfeatures = 2000)\"\n",
      "  .. ..@ params     :List of 12\n",
      "  .. .. ..$ assay              : chr \"RNA\"\n",
      "  .. .. ..$ selection.method   : chr \"vst\"\n",
      "  .. .. ..$ loess.span         : num 0.3\n",
      "  .. .. ..$ clip.max           : chr \"auto\"\n",
      "  .. .. ..$ mean.function      :function (mat, display_progress)  \n",
      "  .. .. ..$ dispersion.function:function (mat, display_progress)  \n",
      "  .. .. ..$ num.bin            : num 20\n",
      "  .. .. ..$ binning.method     : chr \"equal_width\"\n",
      "  .. .. ..$ nfeatures          : num 2000\n",
      "  .. .. ..$ mean.cutoff        : num [1:2] 0.1 8\n",
      "  .. .. ..$ dispersion.cutoff  : num [1:2] 1 Inf\n",
      "  .. .. ..$ verbose            : logi TRUE\n",
      " $ NormalizeData.RNA       :Formal class 'SeuratCommand' [package \"SeuratObject\"] with 5 slots\n",
      "  .. ..@ name       : chr \"NormalizeData.RNA\"\n",
      "  .. ..@ time.stamp : POSIXct[1:1], format: \"2024-09-10 22:56:03\"\n",
      "  .. ..@ assay.used : chr \"RNA\"\n",
      "  .. ..@ call.string: chr [1:2] \"NormalizeData(nsclc.sobj, normalization.method = \\\"LogNormalize\\\", \" \"    scale.factor = 10000)\"\n",
      "  .. ..@ params     :List of 5\n",
      "  .. .. ..$ assay               : chr \"RNA\"\n",
      "  .. .. ..$ normalization.method: chr \"LogNormalize\"\n",
      "  .. .. ..$ scale.factor        : num 10000\n",
      "  .. .. ..$ margin              : num 1\n",
      "  .. .. ..$ verbose             : logi TRUE\n"
     ]
    }
   ],
   "source": [
    "nsclc.sobj <- NormalizeData(nsclc.sobj, normalization.method = \"LogNormalize\", scale.factor = 10000) # default values\n",
    "str(nsclc.sobj@commands)"
   ]
  },
  {
   "cell_type": "code",
   "execution_count": 67,
   "id": "cf8e3fe5-cdb0-4b0f-96be-6a4f579cd401",
   "metadata": {},
   "outputs": [],
   "source": [
    "### 4. Feature selection ###\n",
    "# Idenify cells with high cell to cell variation"
   ]
  },
  {
   "cell_type": "code",
   "execution_count": 68,
   "id": "5b5296e1-8f3f-4106-ac0b-9fd0de123a89",
   "metadata": {},
   "outputs": [
    {
     "name": "stderr",
     "output_type": "stream",
     "text": [
      "Finding variable features for layer counts\n",
      "\n"
     ]
    }
   ],
   "source": [
    "nsclc.sobj <- FindVariableFeatures( nsclc.sobj, selection.method = \"vst\", nfeatures = 2000)  # default values"
   ]
  },
  {
   "cell_type": "code",
   "execution_count": 48,
   "id": "12023cd4-4a3b-4352-8efd-704d1f5a26e1",
   "metadata": {},
   "outputs": [
    {
     "data": {
      "text/html": [
       "<style>\n",
       ".list-inline {list-style: none; margin:0; padding: 0}\n",
       ".list-inline>li {display: inline-block}\n",
       ".list-inline>li:not(:last-child)::after {content: \"\\00b7\"; padding: 0 .5ex}\n",
       "</style>\n",
       "<ol class=list-inline><li>'IGHG1'</li><li>'IGKC'</li><li>'IGHA1'</li><li>'IGHG3'</li><li>'IGLC2'</li><li>'TPSB2'</li><li>'TPSAB1'</li><li>'IGHM'</li><li>'JCHAIN'</li><li>'IGHGP'</li></ol>\n"
      ],
      "text/latex": [
       "\\begin{enumerate*}\n",
       "\\item 'IGHG1'\n",
       "\\item 'IGKC'\n",
       "\\item 'IGHA1'\n",
       "\\item 'IGHG3'\n",
       "\\item 'IGLC2'\n",
       "\\item 'TPSB2'\n",
       "\\item 'TPSAB1'\n",
       "\\item 'IGHM'\n",
       "\\item 'JCHAIN'\n",
       "\\item 'IGHGP'\n",
       "\\end{enumerate*}\n"
      ],
      "text/markdown": [
       "1. 'IGHG1'\n",
       "2. 'IGKC'\n",
       "3. 'IGHA1'\n",
       "4. 'IGHG3'\n",
       "5. 'IGLC2'\n",
       "6. 'TPSB2'\n",
       "7. 'TPSAB1'\n",
       "8. 'IGHM'\n",
       "9. 'JCHAIN'\n",
       "10. 'IGHGP'\n",
       "\n",
       "\n"
      ],
      "text/plain": [
       " [1] \"IGHG1\"  \"IGKC\"   \"IGHA1\"  \"IGHG3\"  \"IGLC2\"  \"TPSB2\"  \"TPSAB1\" \"IGHM\"  \n",
       " [9] \"JCHAIN\" \"IGHGP\" "
      ]
     },
     "metadata": {},
     "output_type": "display_data"
    }
   ],
   "source": [
    "# top 10 most variable genes\n",
    "top10 <- head(VariableFeatures( nsclc.sobj), 10)\n",
    "top10"
   ]
  },
  {
   "cell_type": "code",
   "execution_count": 70,
   "id": "cf204cf8-0657-408c-b90a-3c3029023bd5",
   "metadata": {},
   "outputs": [],
   "source": [
    "# Plot variable features"
   ]
  },
  {
   "cell_type": "code",
   "execution_count": 71,
   "id": "4151b0d9-f784-4acb-8d41-d68411b3856d",
   "metadata": {},
   "outputs": [
    {
     "name": "stderr",
     "output_type": "stream",
     "text": [
      "Warning message:\n",
      "\"\u001b[1m\u001b[22mTransformation introduced infinite values in continuous x-axis\"\n"
     ]
    },
    {
     "data": {
      "image/png": "[encoded data removed]",
      "text/plain": [
       "plot without title"
      ]
     },
     "metadata": {
      "image/png": {
       "height": 420,
       "width": 420
      }
     },
     "output_type": "display_data"
    }
   ],
   "source": [
    "plot1 <- VariableFeaturePlot(nsclc.sobj)\n",
    "plot1"
   ]
  },
  {
   "cell_type": "code",
   "execution_count": 72,
   "id": "5ddabf94-ba04-4576-90f6-2c4e3b934b4d",
   "metadata": {},
   "outputs": [
    {
     "name": "stderr",
     "output_type": "stream",
     "text": [
      "When using repel, set xnudge and ynudge to 0 for optimal results\n",
      "\n",
      "Warning message:\n",
      "\"\u001b[1m\u001b[22mTransformation introduced infinite values in continuous x-axis\"\n"
     ]
    },
    {
     "data": {
      "image/png": "[encoded data removed]",
      "text/plain": [
       "plot without title"
      ]
     },
     "metadata": {
      "image/png": {
       "height": 420,
       "width": 420
      }
     },
     "output_type": "display_data"
    }
   ],
   "source": [
    "LabelPoints(plot = plot1, points = top10, repel = TRUE)"
   ]
  },
  {
   "cell_type": "code",
   "execution_count": 73,
   "id": "4796e46a-dada-4a98-b478-3eb38612c6bf",
   "metadata": {},
   "outputs": [],
   "source": [
    "### 5. Scaling ###\n",
    "### 6. Linear dimensionality reduction ###"
   ]
  },
  {
   "cell_type": "code",
   "execution_count": 76,
   "id": "acb63346-5420-4f24-9554-873e2118f0b0",
   "metadata": {},
   "outputs": [],
   "source": []
  },
  {
   "cell_type": "code",
   "execution_count": null,
   "id": "e5495242-ad77-40cc-9603-0e7394938998",
   "metadata": {},
   "outputs": [],
   "source": []
  },
  {
   "cell_type": "code",
   "execution_count": null,
   "id": "e46e5f4a-6fec-4c47-8fda-5f6bc5d9a684",
   "metadata": {},
   "outputs": [],
   "source": []
  }
 ],
 "metadata": {
  "kernelspec": {
   "display_name": "R",
   "language": "R",
   "name": "ir"
  },
  "language_info": {
   "codemirror_mode": "r",
   "file_extension": ".r",
   "mimetype": "text/x-r-source",
   "name": "R",
   "pygments_lexer": "r",
   "version": "4.1.2"
  }
 },
 "nbformat": 4,
 "nbformat_minor": 5
}
